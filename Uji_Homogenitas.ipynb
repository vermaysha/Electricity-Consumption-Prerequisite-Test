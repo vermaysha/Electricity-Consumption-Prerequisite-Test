{
 "cells": [
  {
   "attachments": {},
   "cell_type": "markdown",
   "metadata": {},
   "source": [
    "# Uji Homogenitas\n",
    "\n",
    "Uji homogenitas digunakan untuk memeriksa apakah varian data pada dua atau lebih kelompok sama atau tidak"
   ]
  },
  {
   "attachments": {},
   "cell_type": "markdown",
   "metadata": {},
   "source": [
    "### Import library yang dibutuhkan"
   ]
  },
  {
   "cell_type": "code",
   "execution_count": 1,
   "metadata": {},
   "outputs": [],
   "source": [
    "from scipy.stats import levene\n",
    "import pandas as pd"
   ]
  },
  {
   "attachments": {},
   "cell_type": "markdown",
   "metadata": {},
   "source": [
    "### Membaca Dataset yang digunakan"
   ]
  },
  {
   "cell_type": "code",
   "execution_count": 25,
   "metadata": {},
   "outputs": [],
   "source": [
    "# membaca file CSV \n",
    "df = pd.read_csv('./dataset/household_power_consumption.csv')"
   ]
  },
  {
   "attachments": {},
   "cell_type": "markdown",
   "metadata": {},
   "source": [
    "### Memisahkan dataset menjadi 2 serta mengambil kolom Global_intensity dan mengubahnya menjadi float"
   ]
  },
  {
   "cell_type": "code",
   "execution_count": null,
   "metadata": {},
   "outputs": [],
   "source": [
    "# Pisahkan data menjadi dua kelompok\n",
    "group1 = df[df['Date'] == '1/1/07']['Global_intensity'].astype('float')\n",
    "group2 = df[df['Date'] == '2/1/07']['Global_intensity'].astype('float')"
   ]
  },
  {
   "attachments": {},
   "cell_type": "markdown",
   "metadata": {},
   "source": [
    "### Uji Homogenitas dengan Algoritma Levene"
   ]
  },
  {
   "cell_type": "code",
   "execution_count": 27,
   "metadata": {},
   "outputs": [
    {
     "name": "stdout",
     "output_type": "stream",
     "text": [
      "Variansi antara kelompok A dan B tidak homogen\n"
     ]
    }
   ],
   "source": [
    "# Lakukan uji Levene\n",
    "statistic, p_value = levene(group1, group2)\n",
    "\n",
    "# Interpretasi hasil uji\n",
    "if p_value < 0.05:\n",
    "    print('Variansi antara kelompok A dan B tidak homogen')\n",
    "else:\n",
    "    print('Variansi antara kelompok A dan B homogen')"
   ]
  }
 ],
 "metadata": {
  "kernelspec": {
   "display_name": "Python 3",
   "language": "python",
   "name": "python3"
  },
  "language_info": {
   "codemirror_mode": {
    "name": "ipython",
    "version": 3
   },
   "file_extension": ".py",
   "mimetype": "text/x-python",
   "name": "python",
   "nbconvert_exporter": "python",
   "pygments_lexer": "ipython3",
   "version": "3.10.6"
  },
  "orig_nbformat": 4
 },
 "nbformat": 4,
 "nbformat_minor": 2
}
